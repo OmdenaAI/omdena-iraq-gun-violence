{
  "nbformat": 4,
  "nbformat_minor": 0,
  "metadata": {
    "colab": {
      "name": "Youtube_scraper.ipynb",
      "provenance": [],
      "collapsed_sections": []
    },
    "kernelspec": {
      "name": "python3",
      "display_name": "Python 3"
    },
    "language_info": {
      "name": "python"
    }
  },
  "cells": [
    {
      "cell_type": "code",
      "metadata": {
        "colab": {
          "base_uri": "https://localhost:8080/"
        },
        "id": "KsdqG1NhD1ue",
        "outputId": "4349e9f0-7f1a-4ded-eb0b-96af27fb031c"
      },
      "source": [
        "!pip install selenium"
      ],
      "execution_count": 1,
      "outputs": [
        {
          "output_type": "stream",
          "text": [
            "Requirement already satisfied: selenium in /usr/local/lib/python3.7/dist-packages (3.141.0)\n",
            "Requirement already satisfied: urllib3 in /usr/local/lib/python3.7/dist-packages (from selenium) (1.24.3)\n"
          ],
          "name": "stdout"
        }
      ]
    },
    {
      "cell_type": "code",
      "metadata": {
        "colab": {
          "base_uri": "https://localhost:8080/"
        },
        "id": "ahfB4-oCEjm6",
        "outputId": "184b9356-63d9-409b-b148-8bb3f3009292"
      },
      "source": [
        "!apt-get update # to update ubuntu to correctly run apt install\n",
        "!apt install chromium-chromedriver\n",
        "!cp /usr/lib/chromium-browser/chromedriver /usr/bin\n",
        "import sys\n",
        "sys.path.insert(0,'/usr/lib/chromium-browser/chromedriver')\n"
      ],
      "execution_count": 2,
      "outputs": [
        {
          "output_type": "stream",
          "text": [
            "Hit:1 https://cloud.r-project.org/bin/linux/ubuntu bionic-cran40/ InRelease\n",
            "Ign:2 https://developer.download.nvidia.com/compute/cuda/repos/ubuntu1804/x86_64  InRelease\n",
            "Get:3 http://security.ubuntu.com/ubuntu bionic-security InRelease [88.7 kB]\n",
            "Ign:4 https://developer.download.nvidia.com/compute/machine-learning/repos/ubuntu1804/x86_64  InRelease\n",
            "Hit:5 https://developer.download.nvidia.com/compute/cuda/repos/ubuntu1804/x86_64  Release\n",
            "Hit:6 https://developer.download.nvidia.com/compute/machine-learning/repos/ubuntu1804/x86_64  Release\n",
            "Hit:7 http://ppa.launchpad.net/c2d4u.team/c2d4u4.0+/ubuntu bionic InRelease\n",
            "Hit:8 http://archive.ubuntu.com/ubuntu bionic InRelease\n",
            "Get:10 http://archive.ubuntu.com/ubuntu bionic-updates InRelease [88.7 kB]\n",
            "Hit:12 http://ppa.launchpad.net/cran/libgit2/ubuntu bionic InRelease\n",
            "Hit:13 http://ppa.launchpad.net/deadsnakes/ppa/ubuntu bionic InRelease\n",
            "Get:14 http://archive.ubuntu.com/ubuntu bionic-backports InRelease [74.6 kB]\n",
            "Hit:15 http://ppa.launchpad.net/graphics-drivers/ppa/ubuntu bionic InRelease\n",
            "Fetched 252 kB in 3s (93.0 kB/s)\n",
            "Reading package lists... Done\n",
            "Reading package lists... Done\n",
            "Building dependency tree       \n",
            "Reading state information... Done\n",
            "chromium-chromedriver is already the newest version (92.0.4515.159-0ubuntu0.18.04.1).\n",
            "The following package was automatically installed and is no longer required:\n",
            "  libnvidia-common-460\n",
            "Use 'apt autoremove' to remove it.\n",
            "0 upgraded, 0 newly installed, 0 to remove and 57 not upgraded.\n",
            "cp: '/usr/lib/chromium-browser/chromedriver' and '/usr/bin/chromedriver' are the same file\n"
          ],
          "name": "stdout"
        }
      ]
    },
    {
      "cell_type": "code",
      "metadata": {
        "id": "_mdlc9cfObc0"
      },
      "source": [
        "import time\n",
        "import pandas as pd\n",
        "from selenium import webdriver\n",
        "from selenium.webdriver import Chrome\n",
        "from selenium.webdriver.common.by import By\n",
        "from selenium.webdriver.common.keys import Keys\n",
        "from selenium.webdriver.support.ui import WebDriverWait\n",
        "from selenium.webdriver.support import expected_conditions as EC"
      ],
      "execution_count": 3,
      "outputs": []
    },
    {
      "cell_type": "code",
      "metadata": {
        "id": "_4IPq-dH5l3Y"
      },
      "source": [
        "def get_driver():\n",
        "\n",
        "    chrome_options = webdriver.ChromeOptions()\n",
        "    chrome_options.add_argument('--headless')\n",
        "    chrome_options.add_argument('--no-sandbox')\n",
        "    chrome_options.add_argument('--disable-dev-shm-usage')\n",
        "    \n",
        "    driver = webdriver.Chrome('chromedriver',options=chrome_options)\n",
        "\n",
        "    return driver\n"
      ],
      "execution_count": 4,
      "outputs": []
    },
    {
      "cell_type": "code",
      "metadata": {
        "id": "xm8f-DzxOyep"
      },
      "source": [
        "channels_name = ['user/alrasheedmedia', 'c/forattube', 'c/IMNnews', '/c/fallujahtv', \n",
        "        'c/AfaqTvafaq']\n",
        "\n",
        "channels_url = ['https://www.youtube.com/'+url+'/videos?view=0&sort=p&flow=grid' \n",
        "            for url in channels_name]\n"
      ],
      "execution_count": 5,
      "outputs": []
    },
    {
      "cell_type": "code",
      "metadata": {
        "id": "UwhK3mM9T9Is"
      },
      "source": [
        "def get_videos(url):\n",
        "    link_list = []\n",
        "    driver=get_driver()\n",
        "    driver.get(url)\n",
        "    videos = driver.find_elements_by_class_name('style-scope ytd-grid-video-renderer')\n",
        "\n",
        "    for video in videos:\n",
        "      link = video.find_element_by_xpath('.//*[@id=\"video-title\"]').get_attribute('href')\n",
        "      link_list.append(link)\n",
        "    driver.close()\n",
        "\n",
        "    return link_list\n",
        "\n"
      ],
      "execution_count": 6,
      "outputs": []
    },
    {
      "cell_type": "code",
      "metadata": {
        "id": "Vky3eboPwxYV"
      },
      "source": [
        "def get_more_videos(channel):\n",
        "    videos_url = []\n",
        "   \n",
        "    with get_driver() as driver:\n",
        "        wait = WebDriverWait(driver, 5)\n",
        "        driver.get(channel)\n",
        "\n",
        "        for item in range(10):\n",
        "            wait.until(EC.visibility_of_element_located((By.TAG_NAME, \"body\"))).send_keys(Keys.END)\n",
        "            time.sleep(5)\n",
        "\n",
        "        for video in wait.until(EC.presence_of_all_elements_located((By.CSS_SELECTOR, \"#details\"))):\n",
        "            link = video.find_element_by_xpath('.//*[@id=\"video-title\"]').get_attribute('href')\n",
        "            videos_url.append(link)\n",
        "        driver.close()\n",
        "\n",
        "        \n",
        "    return videos_url\n"
      ],
      "execution_count": 7,
      "outputs": []
    },
    {
      "cell_type": "code",
      "metadata": {
        "id": "zd6IbnXA70Lc"
      },
      "source": [
        "def get_comments(video):\n",
        "    comments = []\n",
        "    details = []\n",
        "  \n",
        "    with get_driver() as driver:\n",
        "        wait = WebDriverWait(driver,5)\n",
        "        driver.get(video)\n",
        "\n",
        "        for item in range(5): \n",
        "            wait.until(EC.visibility_of_element_located((By.TAG_NAME, \"body\"))).send_keys(Keys.END)\n",
        "            time.sleep(5)\n",
        "\n",
        "        for comment in wait.until(EC.presence_of_all_elements_located((By.CSS_SELECTOR, \"#content-text\"))):\n",
        "            comments.append(comment.text)\n",
        "        for info in wait.until(EC.presence_of_all_elements_located((By.CSS_SELECTOR, \"#header-author\"))):\n",
        "            details.append(info.text)\n",
        "        driver.close()\n",
        "    return comments, details, video"
      ],
      "execution_count": 8,
      "outputs": []
    },
    {
      "cell_type": "code",
      "metadata": {
        "colab": {
          "base_uri": "https://localhost:8080/"
        },
        "id": "8SAlXh6vb7lH",
        "outputId": "9f45710f-e5aa-4577-cc55-81903b12267b"
      },
      "source": [
        "username_list = []\n",
        "channel_list = []\n",
        "video_list = []\n",
        "reference_date_list = []\n",
        "comment_list = []\n",
        "\n",
        "for channel in channels_url:\n",
        "  print(channel)\n",
        "  videos = get_videos(channel)\n",
        "  for video in videos:\n",
        "    print(video)\n",
        "    info = get_comments(video)\n",
        "    \n",
        "    username_list.append(list(map(lambda x : x.split('\\n')[0], info[1])))\n",
        "    channel_list.append([channel]*len(info[0]))\n",
        "    comment_list.append(info[0])\n",
        "    video_list.append([video]*len(info[0]))\n",
        "    try:\n",
        "      date = list(map(lambda x : x.split('\\n')[1], info[1]))\n",
        "      reference_date_list.append(list(map(lambda x : x.split('\\n')[1], info[1])))\n",
        "    except:\n",
        "      reference_date_list.append(['no_date']*len(info[0]))\n",
        "\n"
      ],
      "execution_count": 9,
      "outputs": [
        {
          "output_type": "stream",
          "text": [
            "https://www.youtube.com/user/alrasheedmedia/videos?view=0&sort=p&flow=grid\n",
            "https://www.youtube.com/watch?v=PoEqv9qTfdg\n",
            "https://www.youtube.com/watch?v=rtJLgS7V0Y8\n",
            "https://www.youtube.com/watch?v=B_kwuOKtQN8\n",
            "https://www.youtube.com/watch?v=Of6lghceQ40\n",
            "https://www.youtube.com/watch?v=dgy25CwGizo\n",
            "https://www.youtube.com/watch?v=B4JRELsD8CU\n",
            "https://www.youtube.com/watch?v=eivqmWH_oto\n",
            "https://www.youtube.com/watch?v=2yVGqkRoCFk\n",
            "https://www.youtube.com/watch?v=BW3QPaqdB1g\n",
            "https://www.youtube.com/watch?v=igRvDguSa5Y\n",
            "https://www.youtube.com/watch?v=iVfGRTTmfXM\n",
            "https://www.youtube.com/watch?v=DTbK6dE-zG8\n",
            "https://www.youtube.com/watch?v=qxU9NvIuIr4\n",
            "https://www.youtube.com/watch?v=2jiTDajRTkk\n",
            "https://www.youtube.com/watch?v=PcK06XMZ0UE\n",
            "https://www.youtube.com/watch?v=tyQA1ixVP38\n",
            "https://www.youtube.com/watch?v=TUBzVftg9TM\n",
            "https://www.youtube.com/watch?v=SCnZmNjbKng\n",
            "https://www.youtube.com/watch?v=rVQzyZ3-pHk\n",
            "https://www.youtube.com/watch?v=n3DRPqX3YUo\n",
            "https://www.youtube.com/watch?v=m_bul3IpuNw\n",
            "https://www.youtube.com/watch?v=xATUSN7OKVc\n",
            "https://www.youtube.com/watch?v=zmtGDTcGZ00\n",
            "https://www.youtube.com/watch?v=VEtuyRIJIBw\n",
            "https://www.youtube.com/watch?v=NzKUP8O-3mQ\n",
            "https://www.youtube.com/watch?v=gSt7tKmX6h0\n",
            "https://www.youtube.com/watch?v=uIJddCBgSlM\n",
            "https://www.youtube.com/watch?v=KW2mwBHWBSo\n",
            "https://www.youtube.com/watch?v=PDumQIQCVUA\n",
            "https://www.youtube.com/watch?v=p98ZUqe84q0\n",
            "https://www.youtube.com/c/forattube/videos?view=0&sort=p&flow=grid\n",
            "https://www.youtube.com/watch?v=-ztAtHX9u30\n",
            "https://www.youtube.com/watch?v=7zfAnogkXLA\n",
            "https://www.youtube.com/watch?v=TcbjALunSbc\n",
            "https://www.youtube.com/watch?v=Fde8DFoelz8\n",
            "https://www.youtube.com/watch?v=bLH76GGmQ4g\n",
            "https://www.youtube.com/watch?v=SJidk_FUgSE\n",
            "https://www.youtube.com/watch?v=q9a54RyjqAg\n",
            "https://www.youtube.com/watch?v=uINqD9uhvcw\n",
            "https://www.youtube.com/watch?v=x1PwOoMrZAs\n",
            "https://www.youtube.com/watch?v=PG0WK7-TncE\n",
            "https://www.youtube.com/watch?v=LO66nYT837Q\n",
            "https://www.youtube.com/watch?v=b4hS3lNpA38\n",
            "https://www.youtube.com/watch?v=zYJ_IOQy97E\n",
            "https://www.youtube.com/watch?v=3-CDZIwEsgQ\n",
            "https://www.youtube.com/watch?v=Y8TUdjTLWi4\n",
            "https://www.youtube.com/watch?v=w2Xva540dgY\n",
            "https://www.youtube.com/watch?v=-cfQFT7lkSA\n",
            "https://www.youtube.com/watch?v=ujWjYqCrnLg\n",
            "https://www.youtube.com/watch?v=g-QS1KNjF1A\n",
            "https://www.youtube.com/watch?v=GX_1VlJv2dw\n",
            "https://www.youtube.com/watch?v=NVqZUsnBxWQ\n",
            "https://www.youtube.com/watch?v=B6Y43-GmRKo\n",
            "https://www.youtube.com/watch?v=IZck14I9Vxg\n",
            "https://www.youtube.com/watch?v=WGaor0eS2lo\n",
            "https://www.youtube.com/watch?v=0rXP9MPQMcI\n",
            "https://www.youtube.com/watch?v=fSv0vlhbkCI\n",
            "https://www.youtube.com/watch?v=Unq-KFCd9Kg\n",
            "https://www.youtube.com/watch?v=HOKNlWQ_n1M\n",
            "https://www.youtube.com/watch?v=12tHDhRzr9E\n",
            "https://www.youtube.com/watch?v=2b0Q2X71HyM\n",
            "https://www.youtube.com/c/IMNnews/videos?view=0&sort=p&flow=grid\n",
            "https://www.youtube.com/watch?v=ZhlHcVUnNso\n",
            "https://www.youtube.com/watch?v=6Al1URk-4PI\n",
            "https://www.youtube.com/watch?v=9X-THgcne6k\n",
            "https://www.youtube.com/watch?v=8hgYF2Qtt1c\n",
            "https://www.youtube.com/watch?v=lPvOydeZKms\n",
            "https://www.youtube.com/watch?v=xJXE1IPOfak\n",
            "https://www.youtube.com/watch?v=zD0lb_uTplU\n",
            "https://www.youtube.com/watch?v=u9pKFiArpek\n",
            "https://www.youtube.com/watch?v=rOMJLUtlAJA\n",
            "https://www.youtube.com/watch?v=HYgu32YLz4o\n",
            "https://www.youtube.com/watch?v=N583Ej1gWdo\n",
            "https://www.youtube.com/watch?v=ydyVXLw7obw\n",
            "https://www.youtube.com/watch?v=a-eQgnJUzo8\n",
            "https://www.youtube.com/watch?v=5X2fCZ-QYew\n",
            "https://www.youtube.com/watch?v=GGFuln9nvSo\n",
            "https://www.youtube.com/watch?v=xnFfMj2pHDc\n",
            "https://www.youtube.com/watch?v=NVQa8DsxOl4\n",
            "https://www.youtube.com/watch?v=w_TPcEUU7-g\n",
            "https://www.youtube.com/watch?v=i7jWWIY3mHQ\n",
            "https://www.youtube.com/watch?v=J6WKe_p9gp8\n",
            "https://www.youtube.com/watch?v=5oOmuy-D_xw\n",
            "https://www.youtube.com/watch?v=E6hzwAAfTu8\n",
            "https://www.youtube.com/watch?v=3d3O1pQe-PE\n",
            "https://www.youtube.com/watch?v=hC0DA4f1Bww\n",
            "https://www.youtube.com/watch?v=e-xBQ3SJKao\n",
            "https://www.youtube.com/watch?v=u0SiOv4LEVU\n",
            "https://www.youtube.com/watch?v=6nWk2NsbqMs\n",
            "https://www.youtube.com/watch?v=dsWzidblvAA\n",
            "https://www.youtube.com/watch?v=CxZBxNs66rI\n",
            "https://www.youtube.com/watch?v=BCGSmfxmlT4\n",
            "https://www.youtube.com//c/fallujahtv/videos?view=0&sort=p&flow=grid\n",
            "https://www.youtube.com/c/AfaqTvafaq/videos?view=0&sort=p&flow=grid\n",
            "https://www.youtube.com/watch?v=udTHkikAHeQ\n",
            "https://www.youtube.com/watch?v=mp9Rc4bTX18\n",
            "https://www.youtube.com/watch?v=WF79h3HnzzM\n",
            "https://www.youtube.com/watch?v=NOkKTRbfqzA\n",
            "https://www.youtube.com/watch?v=gwPub8zAV3M\n",
            "https://www.youtube.com/watch?v=6BlTGxiPpYU\n",
            "https://www.youtube.com/watch?v=F3l-lZ1jJiY\n",
            "https://www.youtube.com/watch?v=ZwbAJSYQvc8\n",
            "https://www.youtube.com/watch?v=F0qPHlt4-f8\n",
            "https://www.youtube.com/watch?v=hwPf8A8aP1g\n",
            "https://www.youtube.com/watch?v=XnHbxX9VC5o\n",
            "https://www.youtube.com/watch?v=lfjFw-JHqp8\n",
            "https://www.youtube.com/watch?v=leVy2zwDJHE\n",
            "https://www.youtube.com/watch?v=ZbzyH2cwOvI\n",
            "https://www.youtube.com/watch?v=TCAHjlloFU8\n",
            "https://www.youtube.com/watch?v=h0mEJaygBrM\n",
            "https://www.youtube.com/watch?v=-3iJoaRs-JY\n",
            "https://www.youtube.com/watch?v=HD3tLl_sAfY\n",
            "https://www.youtube.com/watch?v=a5mK52O_5c4\n",
            "https://www.youtube.com/watch?v=MRyUX8Xfkzk\n",
            "https://www.youtube.com/watch?v=J08SLr5ApMc\n",
            "https://www.youtube.com/watch?v=Jke_uK4Ftx0\n",
            "https://www.youtube.com/watch?v=C7GRw41O8lE\n",
            "https://www.youtube.com/watch?v=h6SNmos0j-Y\n",
            "https://www.youtube.com/watch?v=D5qB9czdKhY\n",
            "https://www.youtube.com/watch?v=FAVuPxLKY0U\n",
            "https://www.youtube.com/watch?v=hEKa9Jgq6bE\n",
            "https://www.youtube.com/watch?v=ClwQTYxBc9I\n",
            "https://www.youtube.com/watch?v=9T6NUtVKF_w\n",
            "https://www.youtube.com/watch?v=fq_Ra_gaDcU\n"
          ],
          "name": "stdout"
        }
      ]
    },
    {
      "cell_type": "code",
      "metadata": {
        "id": "6uY6QsPisaum"
      },
      "source": [
        "def flatten_list(input_list):\n",
        "    flatten_list = [item for sublist in input_list for item in sublist]\n",
        "    return flatten_list"
      ],
      "execution_count": 10,
      "outputs": []
    },
    {
      "cell_type": "code",
      "metadata": {
        "colab": {
          "base_uri": "https://localhost:8080/",
          "height": 293
        },
        "id": "1WS8c9GCsZkU",
        "outputId": "14f5c071-0f03-45b6-afe1-1287747504f7"
      },
      "source": [
        "\n",
        "new_df = pd.DataFrame(columns=['username', 'comment', 'channel', 'video', 'reference_date'])\n",
        "new_df['username'] = flatten_list(username_list)\n",
        "new_df['comment'] = flatten_list(comment_list)\n",
        "new_df['channel'] = flatten_list(channel_list)\n",
        "new_df['video'] = flatten_list(video_list)\n",
        "new_df['reference_date'] = flatten_list(reference_date_list)\n",
        "new_df.head()"
      ],
      "execution_count": 11,
      "outputs": [
        {
          "output_type": "execute_result",
          "data": {
            "text/html": [
              "<div>\n",
              "<style scoped>\n",
              "    .dataframe tbody tr th:only-of-type {\n",
              "        vertical-align: middle;\n",
              "    }\n",
              "\n",
              "    .dataframe tbody tr th {\n",
              "        vertical-align: top;\n",
              "    }\n",
              "\n",
              "    .dataframe thead th {\n",
              "        text-align: right;\n",
              "    }\n",
              "</style>\n",
              "<table border=\"1\" class=\"dataframe\">\n",
              "  <thead>\n",
              "    <tr style=\"text-align: right;\">\n",
              "      <th></th>\n",
              "      <th>username</th>\n",
              "      <th>comment</th>\n",
              "      <th>channel</th>\n",
              "      <th>video</th>\n",
              "      <th>reference_date</th>\n",
              "    </tr>\n",
              "  </thead>\n",
              "  <tbody>\n",
              "    <tr>\n",
              "      <th>0</th>\n",
              "      <td>muostafa20 Aboabdoh</td>\n",
              "      <td>مصري عاشق تراب العراق \\nبلاد الرافدين \\nبحبكم ...</td>\n",
              "      <td>https://www.youtube.com/user/alrasheedmedia/vi...</td>\n",
              "      <td>https://www.youtube.com/watch?v=PoEqv9qTfdg</td>\n",
              "      <td>6 months ago</td>\n",
              "    </tr>\n",
              "    <tr>\n",
              "      <th>1</th>\n",
              "      <td>mohamed adel</td>\n",
              "      <td>بحب الشعب العراقى كتير كتير  مصرى مر من هنا 🇪🇬</td>\n",
              "      <td>https://www.youtube.com/user/alrasheedmedia/vi...</td>\n",
              "      <td>https://www.youtube.com/watch?v=PoEqv9qTfdg</td>\n",
              "      <td>5 months ago</td>\n",
              "    </tr>\n",
              "    <tr>\n",
              "      <th>2</th>\n",
              "      <td>eman ahmad</td>\n",
              "      <td>مسكين ابو عبد يوم قالت زي ابويا 😅 فورا طلع لسا...</td>\n",
              "      <td>https://www.youtube.com/user/alrasheedmedia/vi...</td>\n",
              "      <td>https://www.youtube.com/watch?v=PoEqv9qTfdg</td>\n",
              "      <td>5 months ago</td>\n",
              "    </tr>\n",
              "    <tr>\n",
              "      <th>3</th>\n",
              "      <td>ابو حنين الشرع</td>\n",
              "      <td>والله ابو عبدالله تحطم لمن عرف انو مقلب كان مز...</td>\n",
              "      <td>https://www.youtube.com/user/alrasheedmedia/vi...</td>\n",
              "      <td>https://www.youtube.com/watch?v=PoEqv9qTfdg</td>\n",
              "      <td>6 months ago</td>\n",
              "    </tr>\n",
              "    <tr>\n",
              "      <th>4</th>\n",
              "      <td>الظل العابر</td>\n",
              "      <td>يا جمال العراقيات ماشاءالله</td>\n",
              "      <td>https://www.youtube.com/user/alrasheedmedia/vi...</td>\n",
              "      <td>https://www.youtube.com/watch?v=PoEqv9qTfdg</td>\n",
              "      <td>6 months ago</td>\n",
              "    </tr>\n",
              "  </tbody>\n",
              "</table>\n",
              "</div>"
            ],
            "text/plain": [
              "              username  ... reference_date\n",
              "0  muostafa20 Aboabdoh  ...   6 months ago\n",
              "1         mohamed adel  ...   5 months ago\n",
              "2           eman ahmad  ...   5 months ago\n",
              "3       ابو حنين الشرع  ...   6 months ago\n",
              "4          الظل العابر  ...   6 months ago\n",
              "\n",
              "[5 rows x 5 columns]"
            ]
          },
          "metadata": {},
          "execution_count": 11
        }
      ]
    },
    {
      "cell_type": "code",
      "metadata": {
        "id": "QQzzlmMxtDFU"
      },
      "source": [
        "new_df.shape\n",
        "new_df.to_csv('youtube_comments.csv', index = False)"
      ],
      "execution_count": 12,
      "outputs": []
    },
    {
      "cell_type": "markdown",
      "metadata": {
        "id": "vALHsI4kDUa2"
      },
      "source": [
        "## Resources \n",
        "https://www.youtube.com/watch?v=lTypMlVBFM4&t=518s\n"
      ]
    }
  ]
}