{
 "cells": [
  {
   "cell_type": "markdown",
   "metadata": {},
   "source": [
    "# Task 6  - Data Visualizations and Documentation"
   ]
  },
  {
   "cell_type": "markdown",
   "metadata": {},
   "source": [
    "Contributors:\n",
    "* Razvan Nelepcu\n",
    "* \n",
    "* "
   ]
  },
  {
   "cell_type": "markdown",
   "metadata": {},
   "source": [
    "Task deliverables:\n",
    "1. Visualizations(EDA) to be used in Documentation part, using:\n",
    "    * Timeseries analysis on data aggregated daily - comparative for violent events and violent media percentages.(what is the period of the analysis?)\n",
    "    * sentiment analysis \n",
    "2. Final Report - format TBD, no latter than 5th September (will include tasks, resources, teams composition, process, models, metrics, recommendations, future work and other)\n",
    "\n",
    "3. Is there a need for a PowerPoint presentation? "
   ]
  },
  {
   "cell_type": "markdown",
   "metadata": {},
   "source": [
    "### 29th August Updates"
   ]
  },
  {
   "cell_type": "markdown",
   "metadata": {},
   "source": [
    "For practicing Visualization techniques, until the cleaned data is ready we can use this data: https://github.com/OmdenaAI/omdena-iraq-gun-violence/tree/main/src/tasks/task-5-Modelling/datasets"
   ]
  },
  {
   "cell_type": "markdown",
   "metadata": {},
   "source": [
    "### Task plan:"
   ]
  },
  {
   "cell_type": "markdown",
   "metadata": {},
   "source": [
    "Visualizations subtasks:\n",
    "\n",
    "   1. EDA on cleaned data - histograms, countplots\n",
    "   2. timeseries analysis - decomposition of timesries - trend, sesonality & residuals\n",
    "   3. compared timeseries analysis - comparative for violent events and violent media posts percentages.\n"
   ]
  },
  {
   "cell_type": "markdown",
   "metadata": {},
   "source": [
    "\n",
    "Documentation subtasks:\n",
    "\n",
    "4. short story(1-2 paragraphs) about data collection\n",
    "5. short story(1-2 paragraphs) about data annotation& sentiment analysis\n",
    "6. short story(1-2 paragraphs) about data cleaning\n",
    "7. short story(1-2 paragraphs) about network comunity analysis\n",
    "8. short story(1-2 paragraphs) about modeling"
   ]
  }
 ],
 "metadata": {
  "kernelspec": {
   "display_name": "Python 3",
   "language": "python",
   "name": "python3"
  },
  "language_info": {
   "codemirror_mode": {
    "name": "ipython",
    "version": 3
   },
   "file_extension": ".py",
   "mimetype": "text/x-python",
   "name": "python",
   "nbconvert_exporter": "python",
   "pygments_lexer": "ipython3",
   "version": "3.8.5"
  }
 },
 "nbformat": 4,
 "nbformat_minor": 4
}
